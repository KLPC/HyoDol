{
 "cells": [
  {
   "cell_type": "code",
   "execution_count": 1,
   "metadata": {
    "ExecuteTime": {
     "end_time": "2021-11-04T11:25:51.634756Z",
     "start_time": "2021-11-04T11:25:50.997912Z"
    }
   },
   "outputs": [],
   "source": [
    "import pandas as pd\n",
    "import numpy as np"
   ]
  },
  {
   "cell_type": "code",
   "execution_count": 7,
   "metadata": {
    "ExecuteTime": {
     "end_time": "2021-11-04T11:26:22.385308Z",
     "start_time": "2021-11-04T11:26:22.379293Z"
    }
   },
   "outputs": [
    {
     "data": {
      "text/plain": [
       "'C:\\\\Users\\\\LSH\\\\Desktop\\\\HyoDol\\\\1.Preprocess'"
      ]
     },
     "execution_count": 7,
     "metadata": {},
     "output_type": "execute_result"
    }
   ],
   "source": [
    "import os\n",
    "os.getcwd()"
   ]
  },
  {
   "cell_type": "code",
   "execution_count": 11,
   "metadata": {
    "ExecuteTime": {
     "end_time": "2021-11-04T11:27:06.929454Z",
     "start_time": "2021-11-04T11:27:06.911448Z"
    }
   },
   "outputs": [
    {
     "ename": "FileNotFoundError",
     "evalue": "[WinError 2] 지정된 파일을 찾을 수 없습니다: '.data'",
     "output_type": "error",
     "traceback": [
      "\u001b[1;31m---------------------------------------------------------------------------\u001b[0m",
      "\u001b[1;31mFileNotFoundError\u001b[0m                         Traceback (most recent call last)",
      "\u001b[1;32m~\\AppData\\Local\\Temp/ipykernel_39548/4268570691.py\u001b[0m in \u001b[0;36m<module>\u001b[1;34m\u001b[0m\n\u001b[0;32m      4\u001b[0m \u001b[0mpath\u001b[0m \u001b[1;33m=\u001b[0m \u001b[1;34m'.data'\u001b[0m\u001b[1;33m\u001b[0m\u001b[1;33m\u001b[0m\u001b[0m\n\u001b[0;32m      5\u001b[0m \u001b[0mextension\u001b[0m \u001b[1;33m=\u001b[0m \u001b[1;34m'csv'\u001b[0m\u001b[1;33m\u001b[0m\u001b[1;33m\u001b[0m\u001b[0m\n\u001b[1;32m----> 6\u001b[1;33m \u001b[0mos\u001b[0m\u001b[1;33m.\u001b[0m\u001b[0mchdir\u001b[0m\u001b[1;33m(\u001b[0m\u001b[0mpath\u001b[0m\u001b[1;33m)\u001b[0m\u001b[1;33m\u001b[0m\u001b[1;33m\u001b[0m\u001b[0m\n\u001b[0m\u001b[0;32m      7\u001b[0m \u001b[0mcsv_list\u001b[0m \u001b[1;33m=\u001b[0m \u001b[0mglob\u001b[0m\u001b[1;33m.\u001b[0m\u001b[0mglob\u001b[0m\u001b[1;33m(\u001b[0m\u001b[1;34m'*.{}'\u001b[0m\u001b[1;33m.\u001b[0m\u001b[0mformat\u001b[0m\u001b[1;33m(\u001b[0m\u001b[0mextension\u001b[0m\u001b[1;33m)\u001b[0m\u001b[1;33m)\u001b[0m\u001b[1;33m\u001b[0m\u001b[1;33m\u001b[0m\u001b[0m\n",
      "\u001b[1;31mFileNotFoundError\u001b[0m: [WinError 2] 지정된 파일을 찾을 수 없습니다: '.data'"
     ]
    }
   ],
   "source": [
    "import os\n",
    "import glob\n",
    "\n",
    "path = 'C:\\\\Users\\\\LSH\\\\Desktop\\\\효돌\\\\data_csv\\\\data'\n",
    "extension = 'csv'\n",
    "os.chdir(path)\n",
    "csv_list = glob.glob('*.{}'.format(extension))"
   ]
  },
  {
   "cell_type": "code",
   "execution_count": null,
   "metadata": {
    "ExecuteTime": {
     "end_time": "2021-11-04T11:26:06.845379Z",
     "start_time": "2021-11-04T11:26:06.845379Z"
    }
   },
   "outputs": [],
   "source": [
    "csv_list"
   ]
  },
  {
   "cell_type": "code",
   "execution_count": 4,
   "metadata": {
    "ExecuteTime": {
     "end_time": "2021-11-04T11:20:08.460046Z",
     "start_time": "2021-11-04T11:20:08.263185Z"
    }
   },
   "outputs": [],
   "source": [
    "nonuser_id=pd.read_excel('nonuser_id.xlsx', '테스트계정정보')['host_user_id']"
   ]
  },
  {
   "cell_type": "code",
   "execution_count": null,
   "metadata": {},
   "outputs": [],
   "source": []
  },
  {
   "cell_type": "code",
   "execution_count": null,
   "metadata": {},
   "outputs": [],
   "source": []
  },
  {
   "cell_type": "code",
   "execution_count": null,
   "metadata": {},
   "outputs": [],
   "source": []
  },
  {
   "cell_type": "markdown",
   "metadata": {},
   "source": [
    "# `scc_doll_option`"
   ]
  },
  {
   "cell_type": "code",
   "execution_count": 5,
   "metadata": {
    "ExecuteTime": {
     "end_time": "2021-11-04T11:20:10.647454Z",
     "start_time": "2021-11-04T11:20:10.609377Z"
    }
   },
   "outputs": [
    {
     "name": "stdout",
     "output_type": "stream",
     "text": [
      "(11631, 16)\n",
      "Index(['doll_id', 'no_alarm', 'relig1', 'relig2', 'relig3', 'relig4', 'relig5',\n",
      "       'religion_alarm', 'calender_type', 'is_edited', 'is_active_detect',\n",
      "       'grandFM', 'honorFM', 'right_ear_function', 'left_ear_function',\n",
      "       'serial_number'],\n",
      "      dtype='object')\n"
     ]
    },
    {
     "data": {
      "text/html": [
       "<div>\n",
       "<style scoped>\n",
       "    .dataframe tbody tr th:only-of-type {\n",
       "        vertical-align: middle;\n",
       "    }\n",
       "\n",
       "    .dataframe tbody tr th {\n",
       "        vertical-align: top;\n",
       "    }\n",
       "\n",
       "    .dataframe thead th {\n",
       "        text-align: right;\n",
       "    }\n",
       "</style>\n",
       "<table border=\"1\" class=\"dataframe\">\n",
       "  <thead>\n",
       "    <tr style=\"text-align: right;\">\n",
       "      <th></th>\n",
       "      <th>doll_id</th>\n",
       "      <th>no_alarm</th>\n",
       "      <th>relig1</th>\n",
       "      <th>relig2</th>\n",
       "      <th>relig3</th>\n",
       "      <th>relig4</th>\n",
       "      <th>relig5</th>\n",
       "      <th>religion_alarm</th>\n",
       "      <th>calender_type</th>\n",
       "      <th>is_edited</th>\n",
       "      <th>is_active_detect</th>\n",
       "      <th>grandFM</th>\n",
       "      <th>honorFM</th>\n",
       "      <th>right_ear_function</th>\n",
       "      <th>left_ear_function</th>\n",
       "      <th>serial_number</th>\n",
       "    </tr>\n",
       "  </thead>\n",
       "  <tbody>\n",
       "    <tr>\n",
       "      <th>0</th>\n",
       "      <td>29</td>\n",
       "      <td>0</td>\n",
       "      <td>07</td>\n",
       "      <td>08</td>\n",
       "      <td>13</td>\n",
       "      <td>18</td>\n",
       "      <td>23</td>\n",
       "      <td>0</td>\n",
       "      <td>1</td>\n",
       "      <td>0</td>\n",
       "      <td>1</td>\n",
       "      <td>1</td>\n",
       "      <td>0</td>\n",
       "      <td>0000001</td>\n",
       "      <td>0000010</td>\n",
       "      <td>0</td>\n",
       "    </tr>\n",
       "    <tr>\n",
       "      <th>1</th>\n",
       "      <td>33</td>\n",
       "      <td>0</td>\n",
       "      <td>07</td>\n",
       "      <td>08</td>\n",
       "      <td>13</td>\n",
       "      <td>18</td>\n",
       "      <td>23</td>\n",
       "      <td>0</td>\n",
       "      <td>1</td>\n",
       "      <td>0</td>\n",
       "      <td>1</td>\n",
       "      <td>1</td>\n",
       "      <td>0</td>\n",
       "      <td>0000001</td>\n",
       "      <td>0000010</td>\n",
       "      <td>0</td>\n",
       "    </tr>\n",
       "    <tr>\n",
       "      <th>2</th>\n",
       "      <td>43</td>\n",
       "      <td>0</td>\n",
       "      <td>07</td>\n",
       "      <td>08</td>\n",
       "      <td>13</td>\n",
       "      <td>18</td>\n",
       "      <td>23</td>\n",
       "      <td>0</td>\n",
       "      <td>1</td>\n",
       "      <td>0</td>\n",
       "      <td>1</td>\n",
       "      <td>1</td>\n",
       "      <td>0</td>\n",
       "      <td>0000001</td>\n",
       "      <td>0000010</td>\n",
       "      <td>1</td>\n",
       "    </tr>\n",
       "    <tr>\n",
       "      <th>3</th>\n",
       "      <td>69</td>\n",
       "      <td>0</td>\n",
       "      <td>07</td>\n",
       "      <td>08</td>\n",
       "      <td>13</td>\n",
       "      <td>18</td>\n",
       "      <td>23</td>\n",
       "      <td>0</td>\n",
       "      <td>1</td>\n",
       "      <td>0</td>\n",
       "      <td>1</td>\n",
       "      <td>1</td>\n",
       "      <td>0</td>\n",
       "      <td>0000001</td>\n",
       "      <td>0000010</td>\n",
       "      <td>1</td>\n",
       "    </tr>\n",
       "    <tr>\n",
       "      <th>4</th>\n",
       "      <td>215</td>\n",
       "      <td>1</td>\n",
       "      <td>07</td>\n",
       "      <td>08</td>\n",
       "      <td>13</td>\n",
       "      <td>18</td>\n",
       "      <td>23</td>\n",
       "      <td>1</td>\n",
       "      <td>1</td>\n",
       "      <td>0</td>\n",
       "      <td>1</td>\n",
       "      <td>1</td>\n",
       "      <td>0</td>\n",
       "      <td>0000001</td>\n",
       "      <td>0000010</td>\n",
       "      <td>2</td>\n",
       "    </tr>\n",
       "  </tbody>\n",
       "</table>\n",
       "</div>"
      ],
      "text/plain": [
       "   doll_id  no_alarm relig1 relig2 relig3 relig4 relig5  religion_alarm  \\\n",
       "0       29         0     07     08     13     18     23               0   \n",
       "1       33         0     07     08     13     18     23               0   \n",
       "2       43         0     07     08     13     18     23               0   \n",
       "3       69         0     07     08     13     18     23               0   \n",
       "4      215         1     07     08     13     18     23               1   \n",
       "\n",
       "   calender_type  is_edited  is_active_detect  grandFM  honorFM  \\\n",
       "0              1          0                 1        1        0   \n",
       "1              1          0                 1        1        0   \n",
       "2              1          0                 1        1        0   \n",
       "3              1          0                 1        1        0   \n",
       "4              1          0                 1        1        0   \n",
       "\n",
       "  right_ear_function left_ear_function  serial_number  \n",
       "0            0000001           0000010              0  \n",
       "1            0000001           0000010              0  \n",
       "2            0000001           0000010              1  \n",
       "3            0000001           0000010              1  \n",
       "4            0000001           0000010              2  "
      ]
     },
     "execution_count": 5,
     "metadata": {},
     "output_type": "execute_result"
    }
   ],
   "source": [
    "scc_doll_option=pd.read_csv(csv_list[4],sep=';')\n",
    "scc_doll_option['serial_number']=np.arange(scc_doll_option.shape[0])//2\n",
    "print(scc_doll_option.shape)\n",
    "print(scc_doll_option.columns)\n",
    "scc_doll_option.head()"
   ]
  },
  {
   "cell_type": "code",
   "execution_count": 133,
   "metadata": {
    "ExecuteTime": {
     "end_time": "2021-10-26T10:10:29.781338Z",
     "start_time": "2021-10-26T10:10:29.768574Z"
    }
   },
   "outputs": [],
   "source": [
    "key=scc_doll_option['doll_id']\n",
    "value=scc_doll_option['serial_number']\n",
    "matching=dict(zip(key,value))"
   ]
  },
  {
   "cell_type": "code",
   "execution_count": null,
   "metadata": {},
   "outputs": [],
   "source": []
  },
  {
   "cell_type": "code",
   "execution_count": null,
   "metadata": {},
   "outputs": [],
   "source": []
  },
  {
   "cell_type": "markdown",
   "metadata": {},
   "source": [
    "# `log_doll_drug_consume`\n"
   ]
  },
  {
   "cell_type": "code",
   "execution_count": 134,
   "metadata": {
    "ExecuteTime": {
     "end_time": "2021-10-26T10:10:30.176027Z",
     "start_time": "2021-10-26T10:10:30.019306Z"
    },
    "scrolled": true
   },
   "outputs": [
    {
     "name": "stdout",
     "output_type": "stream",
     "text": [
      "(256102, 6)\n",
      "Index(['doll_id', 'consume', 'drug_year', 'drug_month', 'drug_day',\n",
      "       'drug_hour'],\n",
      "      dtype='object')\n",
      "(0, 7)\n"
     ]
    }
   ],
   "source": [
    "log_doll_drug_consume=pd.read_csv(csv_list[0],sep=';')\n",
    "print(log_doll_drug_consume.shape)\n",
    "print(log_doll_drug_consume.columns)\n",
    "log_doll_drug_consume.head()\n",
    "log_doll_drug_consume=log_doll_drug_consume[(log_doll_drug_consume.drug_year>2018)&(log_doll_drug_consume.drug_month>3)]\n",
    "log_doll_drug_consume['serial_number']=log_doll_drug_consume['doll_id'].replace(matching)\n",
    "print(log_doll_drug_consume.shape)"
   ]
  },
  {
   "cell_type": "code",
   "execution_count": null,
   "metadata": {},
   "outputs": [],
   "source": []
  },
  {
   "cell_type": "code",
   "execution_count": null,
   "metadata": {},
   "outputs": [],
   "source": []
  },
  {
   "cell_type": "markdown",
   "metadata": {},
   "source": [
    "# `log_emergency_push`"
   ]
  },
  {
   "cell_type": "code",
   "execution_count": 135,
   "metadata": {
    "ExecuteTime": {
     "end_time": "2021-10-26T10:10:31.829203Z",
     "start_time": "2021-10-26T10:10:30.418086Z"
    }
   },
   "outputs": [
    {
     "name": "stdout",
     "output_type": "stream",
     "text": [
      "(34856, 5)\n",
      "Index(['doll_id', 'last_push_year', 'last_push_month', 'last_push_day',\n",
      "       'serial_number'],\n",
      "      dtype='object')\n"
     ]
    },
    {
     "data": {
      "text/html": [
       "<div>\n",
       "<style scoped>\n",
       "    .dataframe tbody tr th:only-of-type {\n",
       "        vertical-align: middle;\n",
       "    }\n",
       "\n",
       "    .dataframe tbody tr th {\n",
       "        vertical-align: top;\n",
       "    }\n",
       "\n",
       "    .dataframe thead th {\n",
       "        text-align: right;\n",
       "    }\n",
       "</style>\n",
       "<table border=\"1\" class=\"dataframe\">\n",
       "  <thead>\n",
       "    <tr style=\"text-align: right;\">\n",
       "      <th></th>\n",
       "      <th>doll_id</th>\n",
       "      <th>last_push_year</th>\n",
       "      <th>last_push_month</th>\n",
       "      <th>last_push_day</th>\n",
       "      <th>serial_number</th>\n",
       "    </tr>\n",
       "  </thead>\n",
       "  <tbody>\n",
       "    <tr>\n",
       "      <th>1680</th>\n",
       "      <td>124946</td>\n",
       "      <td>2019</td>\n",
       "      <td>4</td>\n",
       "      <td>1</td>\n",
       "      <td>773</td>\n",
       "    </tr>\n",
       "    <tr>\n",
       "      <th>1682</th>\n",
       "      <td>125018</td>\n",
       "      <td>2019</td>\n",
       "      <td>4</td>\n",
       "      <td>1</td>\n",
       "      <td>809</td>\n",
       "    </tr>\n",
       "    <tr>\n",
       "      <th>1683</th>\n",
       "      <td>124936</td>\n",
       "      <td>2019</td>\n",
       "      <td>4</td>\n",
       "      <td>1</td>\n",
       "      <td>768</td>\n",
       "    </tr>\n",
       "    <tr>\n",
       "      <th>1684</th>\n",
       "      <td>125021</td>\n",
       "      <td>2019</td>\n",
       "      <td>4</td>\n",
       "      <td>1</td>\n",
       "      <td>810</td>\n",
       "    </tr>\n",
       "    <tr>\n",
       "      <th>1685</th>\n",
       "      <td>124946</td>\n",
       "      <td>2019</td>\n",
       "      <td>4</td>\n",
       "      <td>1</td>\n",
       "      <td>773</td>\n",
       "    </tr>\n",
       "  </tbody>\n",
       "</table>\n",
       "</div>"
      ],
      "text/plain": [
       "      doll_id  last_push_year  last_push_month  last_push_day  serial_number\n",
       "1680   124946            2019                4              1            773\n",
       "1682   125018            2019                4              1            809\n",
       "1683   124936            2019                4              1            768\n",
       "1684   125021            2019                4              1            810\n",
       "1685   124946            2019                4              1            773"
      ]
     },
     "execution_count": 135,
     "metadata": {},
     "output_type": "execute_result"
    }
   ],
   "source": [
    "log_emergency_push=pd.read_csv(csv_list[1],sep=';')\n",
    "log_emergency_push=log_emergency_push[(log_emergency_push.last_push_year>2018)&(log_emergency_push.last_push_month>3)]\n",
    "log_emergency_push.drop('push_id',axis=1,inplace=True)\n",
    "log_emergency_push['serial_number']=log_emergency_push['doll_id'].replace(matching)\n",
    "\n",
    "print(log_emergency_push.shape)\n",
    "print(log_emergency_push.columns)\n",
    "log_emergency_push.head()"
   ]
  },
  {
   "cell_type": "code",
   "execution_count": null,
   "metadata": {},
   "outputs": [],
   "source": []
  },
  {
   "cell_type": "code",
   "execution_count": null,
   "metadata": {},
   "outputs": [],
   "source": []
  },
  {
   "cell_type": "markdown",
   "metadata": {},
   "source": [
    "# `scc_agency`"
   ]
  },
  {
   "cell_type": "code",
   "execution_count": 136,
   "metadata": {
    "ExecuteTime": {
     "end_time": "2021-10-26T10:10:32.101210Z",
     "start_time": "2021-10-26T10:10:32.074243Z"
    }
   },
   "outputs": [
    {
     "name": "stdout",
     "output_type": "stream",
     "text": [
      "(0, 2)\n",
      "Index(['agency_id', 'agency_name'], dtype='object')\n"
     ]
    },
    {
     "data": {
      "text/html": [
       "<div>\n",
       "<style scoped>\n",
       "    .dataframe tbody tr th:only-of-type {\n",
       "        vertical-align: middle;\n",
       "    }\n",
       "\n",
       "    .dataframe tbody tr th {\n",
       "        vertical-align: top;\n",
       "    }\n",
       "\n",
       "    .dataframe thead th {\n",
       "        text-align: right;\n",
       "    }\n",
       "</style>\n",
       "<table border=\"1\" class=\"dataframe\">\n",
       "  <thead>\n",
       "    <tr style=\"text-align: right;\">\n",
       "      <th></th>\n",
       "      <th>agency_id</th>\n",
       "      <th>agency_name</th>\n",
       "    </tr>\n",
       "  </thead>\n",
       "  <tbody>\n",
       "  </tbody>\n",
       "</table>\n",
       "</div>"
      ],
      "text/plain": [
       "Empty DataFrame\n",
       "Columns: [agency_id, agency_name]\n",
       "Index: []"
      ]
     },
     "execution_count": 136,
     "metadata": {},
     "output_type": "execute_result"
    }
   ],
   "source": [
    "scc_agency=pd.read_csv(csv_list[2],sep=';')\n",
    "print(scc_agency.shape)\n",
    "print(scc_agency.columns)\n",
    "scc_agency.head()"
   ]
  },
  {
   "cell_type": "code",
   "execution_count": null,
   "metadata": {},
   "outputs": [],
   "source": []
  },
  {
   "cell_type": "code",
   "execution_count": null,
   "metadata": {},
   "outputs": [],
   "source": []
  },
  {
   "cell_type": "markdown",
   "metadata": {},
   "source": [
    "# `scc_doll`"
   ]
  },
  {
   "cell_type": "code",
   "execution_count": 137,
   "metadata": {
    "ExecuteTime": {
     "end_time": "2021-10-26T10:10:33.253403Z",
     "start_time": "2021-10-26T10:10:32.358340Z"
    }
   },
   "outputs": [
    {
     "name": "stdout",
     "output_type": "stream",
     "text": [
      "(5055, 26)\n",
      "Index(['doll_id', 'user_id', 'battery', 'active_monitor', 'sex', 'birthday',\n",
      "       'HOUR(wakeup)', 'HOUR(breakfast)', 'HOUR(lunch)', 'HOUR(dinner)',\n",
      "       'HOUR(sleep)', 'ventilation_walk', 'is_edited', 'drug1', 'drug2',\n",
      "       'drug3', 'drug4', 'drug5', 'drug6', 'drug7', 'regsted_year',\n",
      "       'regsted_month', 'disease1', 'disease2', 'disease3', 'serial_number'],\n",
      "      dtype='object')\n"
     ]
    },
    {
     "data": {
      "text/html": [
       "<div>\n",
       "<style scoped>\n",
       "    .dataframe tbody tr th:only-of-type {\n",
       "        vertical-align: middle;\n",
       "    }\n",
       "\n",
       "    .dataframe tbody tr th {\n",
       "        vertical-align: top;\n",
       "    }\n",
       "\n",
       "    .dataframe thead th {\n",
       "        text-align: right;\n",
       "    }\n",
       "</style>\n",
       "<table border=\"1\" class=\"dataframe\">\n",
       "  <thead>\n",
       "    <tr style=\"text-align: right;\">\n",
       "      <th></th>\n",
       "      <th>doll_id</th>\n",
       "      <th>user_id</th>\n",
       "      <th>battery</th>\n",
       "      <th>active_monitor</th>\n",
       "      <th>sex</th>\n",
       "      <th>birthday</th>\n",
       "      <th>HOUR(wakeup)</th>\n",
       "      <th>HOUR(breakfast)</th>\n",
       "      <th>HOUR(lunch)</th>\n",
       "      <th>HOUR(dinner)</th>\n",
       "      <th>...</th>\n",
       "      <th>drug4</th>\n",
       "      <th>drug5</th>\n",
       "      <th>drug6</th>\n",
       "      <th>drug7</th>\n",
       "      <th>regsted_year</th>\n",
       "      <th>regsted_month</th>\n",
       "      <th>disease1</th>\n",
       "      <th>disease2</th>\n",
       "      <th>disease3</th>\n",
       "      <th>serial_number</th>\n",
       "    </tr>\n",
       "  </thead>\n",
       "  <tbody>\n",
       "    <tr>\n",
       "      <th>1031</th>\n",
       "      <td>123533</td>\n",
       "      <td>100</td>\n",
       "      <td>22</td>\n",
       "      <td>24</td>\n",
       "      <td>1</td>\n",
       "      <td>1976</td>\n",
       "      <td>7</td>\n",
       "      <td>8</td>\n",
       "      <td>13</td>\n",
       "      <td>18</td>\n",
       "      <td>...</td>\n",
       "      <td>1.0</td>\n",
       "      <td>1.0</td>\n",
       "      <td>1.0</td>\n",
       "      <td>1.0</td>\n",
       "      <td>2018</td>\n",
       "      <td>11</td>\n",
       "      <td>0.0</td>\n",
       "      <td>0.0</td>\n",
       "      <td>0.0</td>\n",
       "      <td>66</td>\n",
       "    </tr>\n",
       "    <tr>\n",
       "      <th>1032</th>\n",
       "      <td>123534</td>\n",
       "      <td>101</td>\n",
       "      <td>0</td>\n",
       "      <td>2</td>\n",
       "      <td>1</td>\n",
       "      <td>1977</td>\n",
       "      <td>7</td>\n",
       "      <td>8</td>\n",
       "      <td>13</td>\n",
       "      <td>18</td>\n",
       "      <td>...</td>\n",
       "      <td>0.0</td>\n",
       "      <td>0.0</td>\n",
       "      <td>0.0</td>\n",
       "      <td>0.0</td>\n",
       "      <td>2018</td>\n",
       "      <td>11</td>\n",
       "      <td>0.0</td>\n",
       "      <td>0.0</td>\n",
       "      <td>0.0</td>\n",
       "      <td>67</td>\n",
       "    </tr>\n",
       "    <tr>\n",
       "      <th>1033</th>\n",
       "      <td>123535</td>\n",
       "      <td>101</td>\n",
       "      <td>0</td>\n",
       "      <td>2</td>\n",
       "      <td>1</td>\n",
       "      <td>1977</td>\n",
       "      <td>7</td>\n",
       "      <td>8</td>\n",
       "      <td>13</td>\n",
       "      <td>18</td>\n",
       "      <td>...</td>\n",
       "      <td>0.0</td>\n",
       "      <td>0.0</td>\n",
       "      <td>0.0</td>\n",
       "      <td>0.0</td>\n",
       "      <td>2018</td>\n",
       "      <td>11</td>\n",
       "      <td>0.0</td>\n",
       "      <td>0.0</td>\n",
       "      <td>0.0</td>\n",
       "      <td>67</td>\n",
       "    </tr>\n",
       "    <tr>\n",
       "      <th>1034</th>\n",
       "      <td>123536</td>\n",
       "      <td>102</td>\n",
       "      <td>0</td>\n",
       "      <td>2</td>\n",
       "      <td>1</td>\n",
       "      <td>1977</td>\n",
       "      <td>7</td>\n",
       "      <td>8</td>\n",
       "      <td>13</td>\n",
       "      <td>18</td>\n",
       "      <td>...</td>\n",
       "      <td>0.0</td>\n",
       "      <td>0.0</td>\n",
       "      <td>0.0</td>\n",
       "      <td>0.0</td>\n",
       "      <td>2018</td>\n",
       "      <td>11</td>\n",
       "      <td>0.0</td>\n",
       "      <td>0.0</td>\n",
       "      <td>0.0</td>\n",
       "      <td>68</td>\n",
       "    </tr>\n",
       "    <tr>\n",
       "      <th>1035</th>\n",
       "      <td>123537</td>\n",
       "      <td>102</td>\n",
       "      <td>0</td>\n",
       "      <td>2</td>\n",
       "      <td>1</td>\n",
       "      <td>1940</td>\n",
       "      <td>7</td>\n",
       "      <td>8</td>\n",
       "      <td>13</td>\n",
       "      <td>18</td>\n",
       "      <td>...</td>\n",
       "      <td>0.0</td>\n",
       "      <td>0.0</td>\n",
       "      <td>0.0</td>\n",
       "      <td>0.0</td>\n",
       "      <td>2018</td>\n",
       "      <td>11</td>\n",
       "      <td>0.0</td>\n",
       "      <td>0.0</td>\n",
       "      <td>0.0</td>\n",
       "      <td>68</td>\n",
       "    </tr>\n",
       "  </tbody>\n",
       "</table>\n",
       "<p>5 rows × 26 columns</p>\n",
       "</div>"
      ],
      "text/plain": [
       "      doll_id  user_id  battery  active_monitor  sex  birthday  HOUR(wakeup)  \\\n",
       "1031   123533      100       22              24    1      1976             7   \n",
       "1032   123534      101        0               2    1      1977             7   \n",
       "1033   123535      101        0               2    1      1977             7   \n",
       "1034   123536      102        0               2    1      1977             7   \n",
       "1035   123537      102        0               2    1      1940             7   \n",
       "\n",
       "      HOUR(breakfast)  HOUR(lunch)  HOUR(dinner)  ...  drug4  drug5  drug6  \\\n",
       "1031                8           13            18  ...    1.0    1.0    1.0   \n",
       "1032                8           13            18  ...    0.0    0.0    0.0   \n",
       "1033                8           13            18  ...    0.0    0.0    0.0   \n",
       "1034                8           13            18  ...    0.0    0.0    0.0   \n",
       "1035                8           13            18  ...    0.0    0.0    0.0   \n",
       "\n",
       "      drug7  regsted_year  regsted_month  disease1  disease2  disease3  \\\n",
       "1031    1.0          2018             11       0.0       0.0       0.0   \n",
       "1032    0.0          2018             11       0.0       0.0       0.0   \n",
       "1033    0.0          2018             11       0.0       0.0       0.0   \n",
       "1034    0.0          2018             11       0.0       0.0       0.0   \n",
       "1035    0.0          2018             11       0.0       0.0       0.0   \n",
       "\n",
       "      serial_number  \n",
       "1031             66  \n",
       "1032             67  \n",
       "1033             67  \n",
       "1034             68  \n",
       "1035             68  \n",
       "\n",
       "[5 rows x 26 columns]"
      ]
     },
     "execution_count": 137,
     "metadata": {},
     "output_type": "execute_result"
    }
   ],
   "source": [
    "scc_doll=pd.read_csv(csv_list[3],sep=';')\n",
    "scc_doll=scc_doll[~scc_doll['user_id'].isin(nonuser_id)]\n",
    "scc_doll=scc_doll[scc_doll['user_id']>99]\n",
    "scc_doll['serial_number']=scc_doll['doll_id'].replace(matching)\n",
    "\n",
    "print(scc_doll.shape)\n",
    "print(scc_doll.columns)\n",
    "scc_doll.head()"
   ]
  },
  {
   "cell_type": "code",
   "execution_count": 148,
   "metadata": {
    "ExecuteTime": {
     "end_time": "2021-10-26T10:14:53.451434Z",
     "start_time": "2021-10-26T10:14:53.432557Z"
    }
   },
   "outputs": [],
   "source": [
    "scc_doll['age']=2021-scc_doll['birthday']\n",
    "scc_doll.drop('birthday',axis=1,inplace=True)"
   ]
  },
  {
   "cell_type": "code",
   "execution_count": null,
   "metadata": {},
   "outputs": [],
   "source": []
  },
  {
   "cell_type": "code",
   "execution_count": null,
   "metadata": {},
   "outputs": [],
   "source": []
  },
  {
   "cell_type": "markdown",
   "metadata": {},
   "source": [
    "# `scc_ear_function_log`"
   ]
  },
  {
   "cell_type": "code",
   "execution_count": 138,
   "metadata": {
    "ExecuteTime": {
     "end_time": "2021-10-26T10:10:37.833875Z",
     "start_time": "2021-10-26T10:10:33.494447Z"
    }
   },
   "outputs": [
    {
     "name": "stdout",
     "output_type": "stream",
     "text": [
      "(141151, 14)\n",
      "Index(['doll_id', 'story', 'religion', 'music', 'english', 'remembrance',\n",
      "       'quiz', 'gymnastics', 'classic_music', 'religion_music', 'year',\n",
      "       'month', 'day', 'serial_number'],\n",
      "      dtype='object')\n"
     ]
    },
    {
     "data": {
      "text/html": [
       "<div>\n",
       "<style scoped>\n",
       "    .dataframe tbody tr th:only-of-type {\n",
       "        vertical-align: middle;\n",
       "    }\n",
       "\n",
       "    .dataframe tbody tr th {\n",
       "        vertical-align: top;\n",
       "    }\n",
       "\n",
       "    .dataframe thead th {\n",
       "        text-align: right;\n",
       "    }\n",
       "</style>\n",
       "<table border=\"1\" class=\"dataframe\">\n",
       "  <thead>\n",
       "    <tr style=\"text-align: right;\">\n",
       "      <th></th>\n",
       "      <th>doll_id</th>\n",
       "      <th>story</th>\n",
       "      <th>religion</th>\n",
       "      <th>music</th>\n",
       "      <th>english</th>\n",
       "      <th>remembrance</th>\n",
       "      <th>quiz</th>\n",
       "      <th>gymnastics</th>\n",
       "      <th>classic_music</th>\n",
       "      <th>religion_music</th>\n",
       "      <th>year</th>\n",
       "      <th>month</th>\n",
       "      <th>day</th>\n",
       "      <th>serial_number</th>\n",
       "    </tr>\n",
       "  </thead>\n",
       "  <tbody>\n",
       "    <tr>\n",
       "      <th>0</th>\n",
       "      <td>128031</td>\n",
       "      <td>0</td>\n",
       "      <td>0</td>\n",
       "      <td>0</td>\n",
       "      <td>0</td>\n",
       "      <td>0</td>\n",
       "      <td>0</td>\n",
       "      <td>1</td>\n",
       "      <td>0</td>\n",
       "      <td>0</td>\n",
       "      <td>2020</td>\n",
       "      <td>4</td>\n",
       "      <td>21</td>\n",
       "      <td>2315</td>\n",
       "    </tr>\n",
       "    <tr>\n",
       "      <th>1</th>\n",
       "      <td>128031</td>\n",
       "      <td>0</td>\n",
       "      <td>0</td>\n",
       "      <td>0</td>\n",
       "      <td>0</td>\n",
       "      <td>0</td>\n",
       "      <td>1</td>\n",
       "      <td>0</td>\n",
       "      <td>0</td>\n",
       "      <td>0</td>\n",
       "      <td>2020</td>\n",
       "      <td>4</td>\n",
       "      <td>21</td>\n",
       "      <td>2315</td>\n",
       "    </tr>\n",
       "    <tr>\n",
       "      <th>2</th>\n",
       "      <td>128034</td>\n",
       "      <td>0</td>\n",
       "      <td>0</td>\n",
       "      <td>0</td>\n",
       "      <td>0</td>\n",
       "      <td>0</td>\n",
       "      <td>0</td>\n",
       "      <td>1</td>\n",
       "      <td>0</td>\n",
       "      <td>0</td>\n",
       "      <td>2020</td>\n",
       "      <td>4</td>\n",
       "      <td>21</td>\n",
       "      <td>2317</td>\n",
       "    </tr>\n",
       "    <tr>\n",
       "      <th>3</th>\n",
       "      <td>128030</td>\n",
       "      <td>0</td>\n",
       "      <td>0</td>\n",
       "      <td>0</td>\n",
       "      <td>0</td>\n",
       "      <td>0</td>\n",
       "      <td>0</td>\n",
       "      <td>1</td>\n",
       "      <td>0</td>\n",
       "      <td>0</td>\n",
       "      <td>2020</td>\n",
       "      <td>4</td>\n",
       "      <td>22</td>\n",
       "      <td>2315</td>\n",
       "    </tr>\n",
       "    <tr>\n",
       "      <th>4</th>\n",
       "      <td>128030</td>\n",
       "      <td>0</td>\n",
       "      <td>0</td>\n",
       "      <td>0</td>\n",
       "      <td>0</td>\n",
       "      <td>0</td>\n",
       "      <td>1</td>\n",
       "      <td>0</td>\n",
       "      <td>0</td>\n",
       "      <td>0</td>\n",
       "      <td>2020</td>\n",
       "      <td>4</td>\n",
       "      <td>22</td>\n",
       "      <td>2315</td>\n",
       "    </tr>\n",
       "  </tbody>\n",
       "</table>\n",
       "</div>"
      ],
      "text/plain": [
       "   doll_id  story  religion  music  english  remembrance  quiz  gymnastics  \\\n",
       "0   128031      0         0      0        0            0     0           1   \n",
       "1   128031      0         0      0        0            0     1           0   \n",
       "2   128034      0         0      0        0            0     0           1   \n",
       "3   128030      0         0      0        0            0     0           1   \n",
       "4   128030      0         0      0        0            0     1           0   \n",
       "\n",
       "   classic_music  religion_music  year  month  day  serial_number  \n",
       "0              0               0  2020      4   21           2315  \n",
       "1              0               0  2020      4   21           2315  \n",
       "2              0               0  2020      4   21           2317  \n",
       "3              0               0  2020      4   22           2315  \n",
       "4              0               0  2020      4   22           2315  "
      ]
     },
     "execution_count": 138,
     "metadata": {},
     "output_type": "execute_result"
    }
   ],
   "source": [
    "scc_ear_function_log=pd.read_csv(csv_list[5],sep=';')\n",
    "scc_ear_function_log=scc_ear_function_log[(scc_ear_function_log.year>2018)&(scc_ear_function_log.month>3)]\n",
    "scc_ear_function_log['serial_number']=scc_ear_function_log['doll_id'].replace(matching)\n",
    "\n",
    "print(scc_ear_function_log.shape)\n",
    "print(scc_ear_function_log.columns)\n",
    "scc_ear_function_log.head()"
   ]
  },
  {
   "cell_type": "code",
   "execution_count": null,
   "metadata": {},
   "outputs": [],
   "source": []
  },
  {
   "cell_type": "code",
   "execution_count": null,
   "metadata": {},
   "outputs": [],
   "source": []
  },
  {
   "cell_type": "markdown",
   "metadata": {},
   "source": [
    "# `scc_emergency_call`"
   ]
  },
  {
   "cell_type": "code",
   "execution_count": 139,
   "metadata": {
    "ExecuteTime": {
     "end_time": "2021-10-26T10:10:38.967367Z",
     "start_time": "2021-10-26T10:10:38.045592Z"
    },
    "scrolled": true
   },
   "outputs": [
    {
     "name": "stdout",
     "output_type": "stream",
     "text": [
      "(17526, 9)\n",
      "Index(['call_id', 'doll_id', 'user_id', 'call_confirm', 'call_year',\n",
      "       'call_month', 'call_day', 'call_hour', 'serial_number'],\n",
      "      dtype='object')\n"
     ]
    },
    {
     "data": {
      "text/html": [
       "<div>\n",
       "<style scoped>\n",
       "    .dataframe tbody tr th:only-of-type {\n",
       "        vertical-align: middle;\n",
       "    }\n",
       "\n",
       "    .dataframe tbody tr th {\n",
       "        vertical-align: top;\n",
       "    }\n",
       "\n",
       "    .dataframe thead th {\n",
       "        text-align: right;\n",
       "    }\n",
       "</style>\n",
       "<table border=\"1\" class=\"dataframe\">\n",
       "  <thead>\n",
       "    <tr style=\"text-align: right;\">\n",
       "      <th></th>\n",
       "      <th>call_id</th>\n",
       "      <th>doll_id</th>\n",
       "      <th>user_id</th>\n",
       "      <th>call_confirm</th>\n",
       "      <th>call_year</th>\n",
       "      <th>call_month</th>\n",
       "      <th>call_day</th>\n",
       "      <th>call_hour</th>\n",
       "      <th>serial_number</th>\n",
       "    </tr>\n",
       "  </thead>\n",
       "  <tbody>\n",
       "    <tr>\n",
       "      <th>2</th>\n",
       "      <td>3</td>\n",
       "      <td>128182</td>\n",
       "      <td>7962</td>\n",
       "      <td>0</td>\n",
       "      <td>2020</td>\n",
       "      <td>5</td>\n",
       "      <td>23</td>\n",
       "      <td>21</td>\n",
       "      <td>2391</td>\n",
       "    </tr>\n",
       "    <tr>\n",
       "      <th>3</th>\n",
       "      <td>4</td>\n",
       "      <td>128123</td>\n",
       "      <td>7609</td>\n",
       "      <td>0</td>\n",
       "      <td>2020</td>\n",
       "      <td>5</td>\n",
       "      <td>24</td>\n",
       "      <td>6</td>\n",
       "      <td>2361</td>\n",
       "    </tr>\n",
       "    <tr>\n",
       "      <th>4</th>\n",
       "      <td>5</td>\n",
       "      <td>128123</td>\n",
       "      <td>7942</td>\n",
       "      <td>0</td>\n",
       "      <td>2020</td>\n",
       "      <td>5</td>\n",
       "      <td>24</td>\n",
       "      <td>6</td>\n",
       "      <td>2361</td>\n",
       "    </tr>\n",
       "    <tr>\n",
       "      <th>5</th>\n",
       "      <td>6</td>\n",
       "      <td>128123</td>\n",
       "      <td>7609</td>\n",
       "      <td>0</td>\n",
       "      <td>2020</td>\n",
       "      <td>5</td>\n",
       "      <td>24</td>\n",
       "      <td>6</td>\n",
       "      <td>2361</td>\n",
       "    </tr>\n",
       "    <tr>\n",
       "      <th>6</th>\n",
       "      <td>7</td>\n",
       "      <td>128123</td>\n",
       "      <td>7942</td>\n",
       "      <td>0</td>\n",
       "      <td>2020</td>\n",
       "      <td>5</td>\n",
       "      <td>24</td>\n",
       "      <td>6</td>\n",
       "      <td>2361</td>\n",
       "    </tr>\n",
       "  </tbody>\n",
       "</table>\n",
       "</div>"
      ],
      "text/plain": [
       "   call_id  doll_id  user_id  call_confirm  call_year  call_month  call_day  \\\n",
       "2        3   128182     7962             0       2020           5        23   \n",
       "3        4   128123     7609             0       2020           5        24   \n",
       "4        5   128123     7942             0       2020           5        24   \n",
       "5        6   128123     7609             0       2020           5        24   \n",
       "6        7   128123     7942             0       2020           5        24   \n",
       "\n",
       "   call_hour  serial_number  \n",
       "2         21           2391  \n",
       "3          6           2361  \n",
       "4          6           2361  \n",
       "5          6           2361  \n",
       "6          6           2361  "
      ]
     },
     "execution_count": 139,
     "metadata": {},
     "output_type": "execute_result"
    }
   ],
   "source": [
    "scc_emergency_call=pd.read_csv(csv_list[6],sep=';')\n",
    "scc_emergency_call=scc_emergency_call[(scc_emergency_call.call_year>2018)&(scc_emergency_call.call_month>3)]\n",
    "scc_emergency_call=scc_emergency_call[~scc_emergency_call['user_id'].isin(nonuser_id)]\n",
    "scc_emergency_call=scc_emergency_call[scc_emergency_call['user_id']>99]\n",
    "scc_emergency_call['serial_number']=scc_emergency_call['doll_id'].replace(matching)\n",
    "\n",
    "\n",
    "print(scc_emergency_call.shape)\n",
    "print(scc_emergency_call.columns)\n",
    "scc_emergency_call.head()"
   ]
  },
  {
   "cell_type": "code",
   "execution_count": null,
   "metadata": {},
   "outputs": [],
   "source": []
  },
  {
   "cell_type": "code",
   "execution_count": null,
   "metadata": {},
   "outputs": [],
   "source": []
  },
  {
   "cell_type": "markdown",
   "metadata": {},
   "source": [
    "# `scc_user`"
   ]
  },
  {
   "cell_type": "code",
   "execution_count": 140,
   "metadata": {
    "ExecuteTime": {
     "end_time": "2021-10-26T10:10:39.284498Z",
     "start_time": "2021-10-26T10:10:39.243624Z"
    }
   },
   "outputs": [
    {
     "name": "stdout",
     "output_type": "stream",
     "text": [
      "(1938, 7)\n",
      "Index(['user_id', 'is_resign', 'agency_code', 'alarm_emergency',\n",
      "       'alarm_emergency_call', 'alarm_low_battery', 'alarm_disconnect'],\n",
      "      dtype='object')\n"
     ]
    },
    {
     "data": {
      "text/html": [
       "<div>\n",
       "<style scoped>\n",
       "    .dataframe tbody tr th:only-of-type {\n",
       "        vertical-align: middle;\n",
       "    }\n",
       "\n",
       "    .dataframe tbody tr th {\n",
       "        vertical-align: top;\n",
       "    }\n",
       "\n",
       "    .dataframe thead th {\n",
       "        text-align: right;\n",
       "    }\n",
       "</style>\n",
       "<table border=\"1\" class=\"dataframe\">\n",
       "  <thead>\n",
       "    <tr style=\"text-align: right;\">\n",
       "      <th></th>\n",
       "      <th>user_id</th>\n",
       "      <th>is_resign</th>\n",
       "      <th>agency_code</th>\n",
       "      <th>alarm_emergency</th>\n",
       "      <th>alarm_emergency_call</th>\n",
       "      <th>alarm_low_battery</th>\n",
       "      <th>alarm_disconnect</th>\n",
       "    </tr>\n",
       "  </thead>\n",
       "  <tbody>\n",
       "    <tr>\n",
       "      <th>45</th>\n",
       "      <td>7187</td>\n",
       "      <td>0</td>\n",
       "      <td>0.000000e+00</td>\n",
       "      <td>0</td>\n",
       "      <td>1</td>\n",
       "      <td>0</td>\n",
       "      <td>0</td>\n",
       "    </tr>\n",
       "    <tr>\n",
       "      <th>90</th>\n",
       "      <td>7189</td>\n",
       "      <td>0</td>\n",
       "      <td>0.000000e+00</td>\n",
       "      <td>0</td>\n",
       "      <td>1</td>\n",
       "      <td>0</td>\n",
       "      <td>0</td>\n",
       "    </tr>\n",
       "    <tr>\n",
       "      <th>97</th>\n",
       "      <td>7229</td>\n",
       "      <td>1</td>\n",
       "      <td>0.000000e+00</td>\n",
       "      <td>1</td>\n",
       "      <td>1</td>\n",
       "      <td>1</td>\n",
       "      <td>0</td>\n",
       "    </tr>\n",
       "    <tr>\n",
       "      <th>100</th>\n",
       "      <td>8122</td>\n",
       "      <td>0</td>\n",
       "      <td>3.442000e+10</td>\n",
       "      <td>1</td>\n",
       "      <td>1</td>\n",
       "      <td>1</td>\n",
       "      <td>0</td>\n",
       "    </tr>\n",
       "    <tr>\n",
       "      <th>101</th>\n",
       "      <td>7191</td>\n",
       "      <td>0</td>\n",
       "      <td>0.000000e+00</td>\n",
       "      <td>1</td>\n",
       "      <td>1</td>\n",
       "      <td>1</td>\n",
       "      <td>0</td>\n",
       "    </tr>\n",
       "  </tbody>\n",
       "</table>\n",
       "</div>"
      ],
      "text/plain": [
       "     user_id  is_resign   agency_code  alarm_emergency  alarm_emergency_call  \\\n",
       "45      7187          0  0.000000e+00                0                     1   \n",
       "90      7189          0  0.000000e+00                0                     1   \n",
       "97      7229          1  0.000000e+00                1                     1   \n",
       "100     8122          0  3.442000e+10                1                     1   \n",
       "101     7191          0  0.000000e+00                1                     1   \n",
       "\n",
       "     alarm_low_battery  alarm_disconnect  \n",
       "45                   0                 0  \n",
       "90                   0                 0  \n",
       "97                   1                 0  \n",
       "100                  1                 0  \n",
       "101                  1                 0  "
      ]
     },
     "execution_count": 140,
     "metadata": {},
     "output_type": "execute_result"
    }
   ],
   "source": [
    "scc_user=pd.read_csv(csv_list[7],sep=';')\n",
    "scc_user=scc_user[~scc_user['user_id'].isin(nonuser_id)]\n",
    "scc_user=scc_user[scc_user['user_id']>99]\n",
    "\n",
    "print(scc_user.shape)\n",
    "print(scc_user.columns)\n",
    "scc_user.head()"
   ]
  },
  {
   "cell_type": "code",
   "execution_count": null,
   "metadata": {},
   "outputs": [],
   "source": []
  },
  {
   "cell_type": "code",
   "execution_count": null,
   "metadata": {},
   "outputs": [],
   "source": []
  },
  {
   "cell_type": "markdown",
   "metadata": {},
   "source": [
    "# `scc_user_doll_group`"
   ]
  },
  {
   "cell_type": "code",
   "execution_count": 141,
   "metadata": {
    "ExecuteTime": {
     "end_time": "2021-10-26T10:10:40.470771Z",
     "start_time": "2021-10-26T10:10:39.601422Z"
    }
   },
   "outputs": [
    {
     "name": "stdout",
     "output_type": "stream",
     "text": [
      "(5099, 6)\n",
      "Index(['group_id', 'doll_id', 'user_id', 'is_host', 'is_agency',\n",
      "       'serial_number'],\n",
      "      dtype='object')\n"
     ]
    },
    {
     "data": {
      "text/html": [
       "<div>\n",
       "<style scoped>\n",
       "    .dataframe tbody tr th:only-of-type {\n",
       "        vertical-align: middle;\n",
       "    }\n",
       "\n",
       "    .dataframe tbody tr th {\n",
       "        vertical-align: top;\n",
       "    }\n",
       "\n",
       "    .dataframe thead th {\n",
       "        text-align: right;\n",
       "    }\n",
       "</style>\n",
       "<table border=\"1\" class=\"dataframe\">\n",
       "  <thead>\n",
       "    <tr style=\"text-align: right;\">\n",
       "      <th></th>\n",
       "      <th>group_id</th>\n",
       "      <th>doll_id</th>\n",
       "      <th>user_id</th>\n",
       "      <th>is_host</th>\n",
       "      <th>is_agency</th>\n",
       "      <th>serial_number</th>\n",
       "    </tr>\n",
       "  </thead>\n",
       "  <tbody>\n",
       "    <tr>\n",
       "      <th>938</th>\n",
       "      <td>1262</td>\n",
       "      <td>123533</td>\n",
       "      <td>100</td>\n",
       "      <td>1</td>\n",
       "      <td>1</td>\n",
       "      <td>66</td>\n",
       "    </tr>\n",
       "    <tr>\n",
       "      <th>939</th>\n",
       "      <td>1263</td>\n",
       "      <td>123534</td>\n",
       "      <td>101</td>\n",
       "      <td>1</td>\n",
       "      <td>1</td>\n",
       "      <td>67</td>\n",
       "    </tr>\n",
       "    <tr>\n",
       "      <th>940</th>\n",
       "      <td>1264</td>\n",
       "      <td>123535</td>\n",
       "      <td>101</td>\n",
       "      <td>1</td>\n",
       "      <td>1</td>\n",
       "      <td>67</td>\n",
       "    </tr>\n",
       "    <tr>\n",
       "      <th>941</th>\n",
       "      <td>1265</td>\n",
       "      <td>123536</td>\n",
       "      <td>102</td>\n",
       "      <td>1</td>\n",
       "      <td>1</td>\n",
       "      <td>68</td>\n",
       "    </tr>\n",
       "    <tr>\n",
       "      <th>942</th>\n",
       "      <td>1266</td>\n",
       "      <td>123537</td>\n",
       "      <td>102</td>\n",
       "      <td>1</td>\n",
       "      <td>1</td>\n",
       "      <td>68</td>\n",
       "    </tr>\n",
       "  </tbody>\n",
       "</table>\n",
       "</div>"
      ],
      "text/plain": [
       "     group_id  doll_id  user_id  is_host  is_agency  serial_number\n",
       "938      1262   123533      100        1          1             66\n",
       "939      1263   123534      101        1          1             67\n",
       "940      1264   123535      101        1          1             67\n",
       "941      1265   123536      102        1          1             68\n",
       "942      1266   123537      102        1          1             68"
      ]
     },
     "execution_count": 141,
     "metadata": {},
     "output_type": "execute_result"
    }
   ],
   "source": [
    "scc_user_doll_group=pd.read_csv(csv_list[8],sep=';')\n",
    "scc_user_doll_group.columns = ['group_id','doll_id','user_id','is_host','is_agency']\n",
    "scc_user_doll_group=scc_user_doll_group[~scc_user_doll_group['user_id'].isin(nonuser_id)]\n",
    "scc_user_doll_group=scc_user_doll_group[scc_user_doll_group['user_id']>99]\n",
    "scc_user_doll_group['serial_number']=scc_user_doll_group['doll_id'].replace(matching)\n",
    "\n",
    "print(scc_user_doll_group.shape)\n",
    "print(scc_user_doll_group.columns)\n",
    "scc_user_doll_group.head()"
   ]
  },
  {
   "cell_type": "code",
   "execution_count": 142,
   "metadata": {
    "ExecuteTime": {
     "end_time": "2021-10-26T10:10:40.657260Z",
     "start_time": "2021-10-26T10:10:40.644602Z"
    }
   },
   "outputs": [
    {
     "data": {
      "text/plain": [
       "5099"
      ]
     },
     "execution_count": 142,
     "metadata": {},
     "output_type": "execute_result"
    }
   ],
   "source": [
    "scc_user_doll_group['group_id'].nunique()"
   ]
  },
  {
   "cell_type": "code",
   "execution_count": 143,
   "metadata": {
    "ExecuteTime": {
     "end_time": "2021-10-26T10:10:40.909450Z",
     "start_time": "2021-10-26T10:10:40.897430Z"
    }
   },
   "outputs": [
    {
     "data": {
      "text/plain": [
       "3752"
      ]
     },
     "execution_count": 143,
     "metadata": {},
     "output_type": "execute_result"
    }
   ],
   "source": [
    "scc_user_doll_group['doll_id'].nunique()"
   ]
  },
  {
   "cell_type": "code",
   "execution_count": null,
   "metadata": {},
   "outputs": [],
   "source": []
  },
  {
   "cell_type": "markdown",
   "metadata": {},
   "source": [
    "# Merge"
   ]
  },
  {
   "cell_type": "code",
   "execution_count": 183,
   "metadata": {
    "ExecuteTime": {
     "end_time": "2021-10-26T10:24:29.775557Z",
     "start_time": "2021-10-26T10:24:29.742473Z"
    }
   },
   "outputs": [],
   "source": [
    "temp=pd.merge(scc_user_doll_group, scc_emergency_call, on='doll_id', how='outer')\n",
    "doll_df=pd.merge(temp, scc_doll, on='doll_id', how='outer')"
   ]
  },
  {
   "cell_type": "code",
   "execution_count": 191,
   "metadata": {
    "ExecuteTime": {
     "end_time": "2021-10-26T12:00:31.143329Z",
     "start_time": "2021-10-26T12:00:31.088517Z"
    }
   },
   "outputs": [
    {
     "data": {
      "text/html": [
       "<div>\n",
       "<style scoped>\n",
       "    .dataframe tbody tr th:only-of-type {\n",
       "        vertical-align: middle;\n",
       "    }\n",
       "\n",
       "    .dataframe tbody tr th {\n",
       "        vertical-align: top;\n",
       "    }\n",
       "\n",
       "    .dataframe thead th {\n",
       "        text-align: right;\n",
       "    }\n",
       "</style>\n",
       "<table border=\"1\" class=\"dataframe\">\n",
       "  <thead>\n",
       "    <tr style=\"text-align: right;\">\n",
       "      <th></th>\n",
       "      <th>group_id</th>\n",
       "      <th>doll_id</th>\n",
       "      <th>user_id_x</th>\n",
       "      <th>is_host</th>\n",
       "      <th>is_agency</th>\n",
       "      <th>serial_number_x</th>\n",
       "      <th>call_id</th>\n",
       "      <th>user_id_y</th>\n",
       "      <th>call_confirm</th>\n",
       "      <th>call_year</th>\n",
       "      <th>...</th>\n",
       "      <th>drug5</th>\n",
       "      <th>drug6</th>\n",
       "      <th>drug7</th>\n",
       "      <th>regsted_year</th>\n",
       "      <th>regsted_month</th>\n",
       "      <th>disease1</th>\n",
       "      <th>disease2</th>\n",
       "      <th>disease3</th>\n",
       "      <th>serial_number</th>\n",
       "      <th>age</th>\n",
       "    </tr>\n",
       "  </thead>\n",
       "  <tbody>\n",
       "    <tr>\n",
       "      <th>0</th>\n",
       "      <td>1262.0</td>\n",
       "      <td>123533</td>\n",
       "      <td>100.0</td>\n",
       "      <td>1.0</td>\n",
       "      <td>1.0</td>\n",
       "      <td>66.0</td>\n",
       "      <td>NaN</td>\n",
       "      <td>NaN</td>\n",
       "      <td>NaN</td>\n",
       "      <td>NaN</td>\n",
       "      <td>...</td>\n",
       "      <td>1.0</td>\n",
       "      <td>1.0</td>\n",
       "      <td>1.0</td>\n",
       "      <td>2018.0</td>\n",
       "      <td>11.0</td>\n",
       "      <td>0.0</td>\n",
       "      <td>0.0</td>\n",
       "      <td>0.0</td>\n",
       "      <td>66.0</td>\n",
       "      <td>45.0</td>\n",
       "    </tr>\n",
       "    <tr>\n",
       "      <th>1</th>\n",
       "      <td>1263.0</td>\n",
       "      <td>123534</td>\n",
       "      <td>101.0</td>\n",
       "      <td>1.0</td>\n",
       "      <td>1.0</td>\n",
       "      <td>67.0</td>\n",
       "      <td>NaN</td>\n",
       "      <td>NaN</td>\n",
       "      <td>NaN</td>\n",
       "      <td>NaN</td>\n",
       "      <td>...</td>\n",
       "      <td>0.0</td>\n",
       "      <td>0.0</td>\n",
       "      <td>0.0</td>\n",
       "      <td>2018.0</td>\n",
       "      <td>11.0</td>\n",
       "      <td>0.0</td>\n",
       "      <td>0.0</td>\n",
       "      <td>0.0</td>\n",
       "      <td>67.0</td>\n",
       "      <td>44.0</td>\n",
       "    </tr>\n",
       "    <tr>\n",
       "      <th>2</th>\n",
       "      <td>1264.0</td>\n",
       "      <td>123535</td>\n",
       "      <td>101.0</td>\n",
       "      <td>1.0</td>\n",
       "      <td>1.0</td>\n",
       "      <td>67.0</td>\n",
       "      <td>NaN</td>\n",
       "      <td>NaN</td>\n",
       "      <td>NaN</td>\n",
       "      <td>NaN</td>\n",
       "      <td>...</td>\n",
       "      <td>0.0</td>\n",
       "      <td>0.0</td>\n",
       "      <td>0.0</td>\n",
       "      <td>2018.0</td>\n",
       "      <td>11.0</td>\n",
       "      <td>0.0</td>\n",
       "      <td>0.0</td>\n",
       "      <td>0.0</td>\n",
       "      <td>67.0</td>\n",
       "      <td>44.0</td>\n",
       "    </tr>\n",
       "    <tr>\n",
       "      <th>3</th>\n",
       "      <td>1265.0</td>\n",
       "      <td>123536</td>\n",
       "      <td>102.0</td>\n",
       "      <td>1.0</td>\n",
       "      <td>1.0</td>\n",
       "      <td>68.0</td>\n",
       "      <td>NaN</td>\n",
       "      <td>NaN</td>\n",
       "      <td>NaN</td>\n",
       "      <td>NaN</td>\n",
       "      <td>...</td>\n",
       "      <td>0.0</td>\n",
       "      <td>0.0</td>\n",
       "      <td>0.0</td>\n",
       "      <td>2018.0</td>\n",
       "      <td>11.0</td>\n",
       "      <td>0.0</td>\n",
       "      <td>0.0</td>\n",
       "      <td>0.0</td>\n",
       "      <td>68.0</td>\n",
       "      <td>44.0</td>\n",
       "    </tr>\n",
       "    <tr>\n",
       "      <th>4</th>\n",
       "      <td>1266.0</td>\n",
       "      <td>123537</td>\n",
       "      <td>102.0</td>\n",
       "      <td>1.0</td>\n",
       "      <td>1.0</td>\n",
       "      <td>68.0</td>\n",
       "      <td>NaN</td>\n",
       "      <td>NaN</td>\n",
       "      <td>NaN</td>\n",
       "      <td>NaN</td>\n",
       "      <td>...</td>\n",
       "      <td>0.0</td>\n",
       "      <td>0.0</td>\n",
       "      <td>0.0</td>\n",
       "      <td>2018.0</td>\n",
       "      <td>11.0</td>\n",
       "      <td>0.0</td>\n",
       "      <td>0.0</td>\n",
       "      <td>0.0</td>\n",
       "      <td>68.0</td>\n",
       "      <td>81.0</td>\n",
       "    </tr>\n",
       "  </tbody>\n",
       "</table>\n",
       "<p>5 rows × 39 columns</p>\n",
       "</div>"
      ],
      "text/plain": [
       "   group_id  doll_id  user_id_x  is_host  is_agency  serial_number_x  call_id  \\\n",
       "0    1262.0   123533      100.0      1.0        1.0             66.0      NaN   \n",
       "1    1263.0   123534      101.0      1.0        1.0             67.0      NaN   \n",
       "2    1264.0   123535      101.0      1.0        1.0             67.0      NaN   \n",
       "3    1265.0   123536      102.0      1.0        1.0             68.0      NaN   \n",
       "4    1266.0   123537      102.0      1.0        1.0             68.0      NaN   \n",
       "\n",
       "   user_id_y  call_confirm  call_year  ...  drug5  drug6  drug7  regsted_year  \\\n",
       "0        NaN           NaN        NaN  ...    1.0    1.0    1.0        2018.0   \n",
       "1        NaN           NaN        NaN  ...    0.0    0.0    0.0        2018.0   \n",
       "2        NaN           NaN        NaN  ...    0.0    0.0    0.0        2018.0   \n",
       "3        NaN           NaN        NaN  ...    0.0    0.0    0.0        2018.0   \n",
       "4        NaN           NaN        NaN  ...    0.0    0.0    0.0        2018.0   \n",
       "\n",
       "   regsted_month  disease1  disease2  disease3  serial_number   age  \n",
       "0           11.0       0.0       0.0       0.0           66.0  45.0  \n",
       "1           11.0       0.0       0.0       0.0           67.0  44.0  \n",
       "2           11.0       0.0       0.0       0.0           67.0  44.0  \n",
       "3           11.0       0.0       0.0       0.0           68.0  44.0  \n",
       "4           11.0       0.0       0.0       0.0           68.0  81.0  \n",
       "\n",
       "[5 rows x 39 columns]"
      ]
     },
     "execution_count": 191,
     "metadata": {},
     "output_type": "execute_result"
    }
   ],
   "source": [
    "doll_df.head()"
   ]
  }
 ],
 "metadata": {
  "hide_input": false,
  "kernelspec": {
   "display_name": "Python 3 (ipykernel)",
   "language": "python",
   "name": "python3"
  },
  "language_info": {
   "codemirror_mode": {
    "name": "ipython",
    "version": 3
   },
   "file_extension": ".py",
   "mimetype": "text/x-python",
   "name": "python",
   "nbconvert_exporter": "python",
   "pygments_lexer": "ipython3",
   "version": "3.8.3"
  },
  "toc": {
   "base_numbering": 1,
   "nav_menu": {},
   "number_sections": true,
   "sideBar": true,
   "skip_h1_title": false,
   "title_cell": "Table of Contents",
   "title_sidebar": "Contents",
   "toc_cell": false,
   "toc_position": {},
   "toc_section_display": true,
   "toc_window_display": false
  },
  "varInspector": {
   "cols": {
    "lenName": 16,
    "lenType": 16,
    "lenVar": 40
   },
   "kernels_config": {
    "python": {
     "delete_cmd_postfix": "",
     "delete_cmd_prefix": "del ",
     "library": "var_list.py",
     "varRefreshCmd": "print(var_dic_list())"
    },
    "r": {
     "delete_cmd_postfix": ") ",
     "delete_cmd_prefix": "rm(",
     "library": "var_list.r",
     "varRefreshCmd": "cat(var_dic_list()) "
    }
   },
   "types_to_exclude": [
    "module",
    "function",
    "builtin_function_or_method",
    "instance",
    "_Feature"
   ],
   "window_display": false
  }
 },
 "nbformat": 4,
 "nbformat_minor": 4
}
